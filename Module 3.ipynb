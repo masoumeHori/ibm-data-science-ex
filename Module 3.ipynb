{
  "metadata": {
    "language_info": {
      "codemirror_mode": {
        "name": "python",
        "version": 3
      },
      "file_extension": ".py",
      "mimetype": "text/x-python",
      "name": "python",
      "nbconvert_exporter": "python",
      "pygments_lexer": "ipython3",
      "version": "3.8"
    },
    "kernelspec": {
      "name": "python",
      "display_name": "Pyolite",
      "language": "python"
    }
  },
  "nbformat_minor": 4,
  "nbformat": 4,
  "cells": [
    {
      "cell_type": "markdown",
      "source": "<h1>My Jupyter Notebook on IBM Watson Studio</h1>",
      "metadata": {}
    },
    {
      "cell_type": "markdown",
      "source": "<b> masoume </b>\n<p> masoume and programmer </p>",
      "metadata": {}
    },
    {
      "cell_type": "markdown",
      "source": "<i> I am interested in data science because it is very widely used and needed by society </i>",
      "metadata": {}
    },
    {
      "cell_type": "markdown",
      "source": "<h3> Adds one to one and prints the result </h3>",
      "metadata": {}
    },
    {
      "cell_type": "code",
      "source": "a=1\nb=1\nprint(\"result=\",a+b)",
      "metadata": {
        "trusted": true
      },
      "execution_count": 1,
      "outputs": [
        {
          "name": "stdout",
          "text": "result= 2\n",
          "output_type": "stream"
        }
      ]
    },
    {
      "cell_type": "markdown",
      "source": "<ul>\n    <li> music </li>\n    <li> movie </li>\n    <li> sport </li>\n</ul>",
      "metadata": {}
    },
    {
      "cell_type": "markdown",
      "source": "<img src=\"https://www.jowhareh.com/images/Jowhareh/galleries/poster_4cd01d90-242a-4037-859f-61f70af5062b.jpeg\" />",
      "metadata": {}
    },
    {
      "cell_type": "markdown",
      "source": "<a href=\"http://goog\">",
      "metadata": {}
    }
  ]
}